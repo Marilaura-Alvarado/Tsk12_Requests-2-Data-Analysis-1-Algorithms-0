{
 "cells": [
  {
   "cell_type": "code",
   "execution_count": 3,
   "id": "acedca6a-5f10-4fba-a44e-806d3cf8d21f",
   "metadata": {
    "tags": []
   },
   "outputs": [
    {
     "name": "stdout",
     "output_type": "stream",
     "text": [
      "1) The webpage contains 28 '.png'\n",
      "2) The first link to '.png' image is: '/templates/gsom/img/favicon.png'\n",
      "The full link to the image is: https://gsom.spbu.ru/templates/gsom/img/favicon.png\n",
      "The image was successfully stolen\n"
     ]
    }
   ],
   "source": [
    "import requests\n",
    "r1 = requests.get(\"https://gsom.spbu.ru/en/\")\n",
    "\n",
    "# Save the content to a new variable\n",
    "r1_content = r1.content\n",
    "\n",
    "# Convert the content to a string\n",
    "string_content = r1_content.decode(\"utf-8\") # Assuming UTF-8 encoding\n",
    "\n",
    "#1. Count how many links to png images\n",
    "count = string_content.count(\".png\")\n",
    "print(f\"1) The webpage contains {count} '.png'\")\n",
    "\n",
    "index = string_content.find(\".png\")\n",
    "#print(index)\n",
    "#print(string_content[342])\n",
    "\n",
    "start_index = index - 27\n",
    "end_index = index + 4\n",
    "element = string_content[start_index:end_index]\n",
    "print(f\"2) The first link to '.png' image is: '{element}'\")\n",
    "\n",
    "full_element = \"https://gsom.spbu.ru\" + element\n",
    "print(f\"The full link to the image is: {full_element}\")\n",
    "\n",
    "#steal the image\n",
    "r2 = requests.get(full_element)\n",
    "file = open(\"favicon.png\", \"wb\")\n",
    "file.write(r2.content)\n",
    "\n",
    "print(\"The image was successfully stolen\")"
   ]
  },
  {
   "cell_type": "code",
   "execution_count": null,
   "id": "be975b3e-f80f-4665-821d-ae5d1cecdfe9",
   "metadata": {},
   "outputs": [],
   "source": []
  }
 ],
 "metadata": {
  "kernelspec": {
   "display_name": "Python 3 (ipykernel)",
   "language": "python",
   "name": "python3"
  },
  "language_info": {
   "codemirror_mode": {
    "name": "ipython",
    "version": 3
   },
   "file_extension": ".py",
   "mimetype": "text/x-python",
   "name": "python",
   "nbconvert_exporter": "python",
   "pygments_lexer": "ipython3",
   "version": "3.10.8"
  }
 },
 "nbformat": 4,
 "nbformat_minor": 5
}
