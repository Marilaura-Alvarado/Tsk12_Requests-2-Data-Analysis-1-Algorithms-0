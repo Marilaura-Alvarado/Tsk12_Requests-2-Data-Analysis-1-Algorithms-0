{
 "cells": [
  {
   "cell_type": "code",
   "execution_count": 4,
   "id": "2fb107dc-2e8a-4ac4-b849-91cf0c8a7db1",
   "metadata": {
    "tags": []
   },
   "outputs": [
    {
     "name": "stdout",
     "output_type": "stream",
     "text": [
      "Complete DataFrame:\n",
      "  Month  Income Without Tax  Expenses\n",
      "0   Jan              7000.0      8000\n",
      "1   Feb              8400.0      9000\n",
      "2   Mar             10500.0     11000\n",
      "3   Apr              9100.0     10000\n",
      "4   May              7700.0      8000\n",
      "5   Jun              9800.0     12000\n",
      "6   Jul             11200.0     13000\n",
      "7   Aug              8400.0      9000\n",
      "8   Sep             12600.0     14000\n",
      "9   Oct             10500.0     12000\n",
      "\n",
      "1st Quarter Data:\n",
      "  Month  Income Without Tax  Expenses\n",
      "0   Jan              7000.0      8000\n",
      "1   Feb              8400.0      9000\n",
      "2   Mar             10500.0     11000\n"
     ]
    }
   ],
   "source": [
    "import numpy as np\n",
    "import pandas as pd\n",
    "\n",
    "income = np.array([10000, 12000, 15000, 13000, 11000, 14000, 16000, 12000, 18000, 15000])\n",
    "\n",
    "income_without_tax = income * 0.7\n",
    "\n",
    "expenses = np.array([8000, 9000, 11000, 10000, 8000, 12000, 13000, 9000, 14000, 12000])\n",
    "\n",
    "months = np.array(['Jan', 'Feb', 'Mar', 'Apr', 'May', 'Jun', 'Jul', 'Aug', 'Sep', 'Oct'])\n",
    "\n",
    "df = pd.DataFrame({\n",
    "  'Month': months,\n",
    "  'Income Without Tax': income_without_tax,\n",
    "  'Expenses': expenses\n",
    "})\n",
    "\n",
    "print(\"Complete DataFrame:\")\n",
    "print(df)\n",
    "\n",
    "print(\"\\n1st Quarter Data:\")\n",
    "print(df.iloc[:3])"
   ]
  },
  {
   "cell_type": "code",
   "execution_count": null,
   "id": "e0ed9fc9-2f5c-4a73-b54d-ecf9864f247a",
   "metadata": {},
   "outputs": [],
   "source": []
  }
 ],
 "metadata": {
  "kernelspec": {
   "display_name": "Python 3 (ipykernel)",
   "language": "python",
   "name": "python3"
  },
  "language_info": {
   "codemirror_mode": {
    "name": "ipython",
    "version": 3
   },
   "file_extension": ".py",
   "mimetype": "text/x-python",
   "name": "python",
   "nbconvert_exporter": "python",
   "pygments_lexer": "ipython3",
   "version": "3.10.8"
  }
 },
 "nbformat": 4,
 "nbformat_minor": 5
}
