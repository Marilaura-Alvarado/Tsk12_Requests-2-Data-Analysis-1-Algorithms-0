{
 "cells": [
  {
   "cell_type": "code",
   "execution_count": 1,
   "id": "f91ba546-6693-4373-912e-331e5ccf4486",
   "metadata": {
    "tags": []
   },
   "outputs": [
    {
     "name": "stdout",
     "output_type": "stream",
     "text": [
      "Original Short List: [5, 2, 8, 1, 9]\n",
      "Sorted Short List: [1, 2, 5, 8, 9]\n",
      "\n",
      "Original Long List: [12, 4, 7, 1, 10, 9, 3, 5, 8, 2]\n",
      "Sorted Long List: [1, 2, 3, 4, 5, 7, 8, 9, 10, 12]\n"
     ]
    }
   ],
   "source": [
    "def custom_sort(numbers):\n",
    "\n",
    "    n = len(numbers)\n",
    "    for i in range(n - 1):\n",
    "        for j in range(i + 1, n):\n",
    "            if numbers[i] > numbers[j]:\n",
    "                numbers[i], numbers[j] = numbers[j], numbers[i] \n",
    "    return numbers\n",
    "\n",
    "test_list_short = [5, 2, 8, 1, 9]\n",
    "test_list_long = [12, 4, 7, 1, 10, 9, 3, 5, 8, 2]\n",
    "\n",
    "print(\"Original Short List:\", test_list_short)\n",
    "print(\"Sorted Short List:\", custom_sort(test_list_short))\n",
    "\n",
    "print(\"\\nOriginal Long List:\", test_list_long)\n",
    "print(\"Sorted Long List:\", custom_sort(test_list_long))"
   ]
  },
  {
   "cell_type": "code",
   "execution_count": null,
   "id": "34034580-73b1-4f5d-a5cd-82a8eb134a17",
   "metadata": {},
   "outputs": [],
   "source": []
  }
 ],
 "metadata": {
  "kernelspec": {
   "display_name": "Python 3 (ipykernel)",
   "language": "python",
   "name": "python3"
  },
  "language_info": {
   "codemirror_mode": {
    "name": "ipython",
    "version": 3
   },
   "file_extension": ".py",
   "mimetype": "text/x-python",
   "name": "python",
   "nbconvert_exporter": "python",
   "pygments_lexer": "ipython3",
   "version": "3.10.8"
  }
 },
 "nbformat": 4,
 "nbformat_minor": 5
}
